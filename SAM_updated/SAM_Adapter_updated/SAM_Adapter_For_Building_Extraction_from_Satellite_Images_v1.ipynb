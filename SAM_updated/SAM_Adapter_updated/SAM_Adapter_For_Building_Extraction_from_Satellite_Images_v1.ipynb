{
 "cells": [
  {
   "cell_type": "markdown",
   "metadata": {
    "id": "EK5sz60nRQ25"
   },
   "source": [
    "# Segment Anything Model for Building Extraction From High-Resolution Satellite Imagery\n",
    "\n",
    "The codes are adapted based on [SAM Adapter](https://github.com/tianrun-chen/SAM-Adapter-PyTorch) for training and [segment-geospatial](https://github.com/opengeos/segment-geospatial) for creating prediceted masks in the format of GeoTIFF and polygons in the format of ShapeFile.<br>"
   ]
  },
  {
   "cell_type": "markdown",
   "metadata": {
    "id": "v9wsZ9FV7t-S"
   },
   "source": [
    "## For Fine-tuning"
   ]
  },
  {
   "cell_type": "markdown",
   "metadata": {
    "id": "XrZrHgvda9Ub"
   },
   "source": [
    "#### Train and Inference\n",
    "\n",
    "Avaialable input prompts: <br>\n",
    "- parser = argparse.ArgumentParser()\n",
    "- parser.add_argument('--config', default=\"configs/config_sam_vit_h.yaml\", help=\"use the hyperparameters provided by SAM-Adapter\")\n",
    "- parser.add_argument('--data', default=None, help=\"different datasets\")\n",
    "- parser.add_argument('--upsample', default=\"1024\", help=\"1024 or upscaled\") \n",
    "- parser.add_argument('--size', default=\"small\", help=\"small or large\") \n",
    "- parser.add_argument('--uptype', default=\"\", help=\"cubic or SR\") \n",
    "- parser.add_argument('--epoch', default=10, help=\"epochs for training\") \n",
    "- parser.add_argument('--model_save_epoch', default=2, help=\"the interval of saving trained models, do not save models in default due to big size of model.\") \n",
    "- parser.add_argument('--inference_save_epoch', default=1, help=\"the interval of saving trained models\") \n",
    "- parser.add_argument('--thres', default=0.5, help=\"the threshold to determine the binary map\") \n",
    "\n",
    "`Change \"path_data\" in /run_sam/train.py & inference_noft.py & evaluation.py`\n"
   ]
  },
  {
   "cell_type": "code",
   "execution_count": null,
   "metadata": {
    "colab": {
     "base_uri": "https://localhost:8080/"
    },
    "executionInfo": {
     "elapsed": 88724,
     "status": "ok",
     "timestamp": 1702000658635,
     "user": {
      "displayName": "Yunya Gao",
      "userId": "05443726764578958815"
     },
     "user_tz": -60
    },
    "id": "RxKdj2TZAcpU",
    "outputId": "18ea15b8-723b-455d-a13a-122897f513f9"
   },
   "outputs": [
    {
     "name": "stdout",
     "output_type": "stream",
     "text": [
      "/home/ubuntu/.local/lib/python3.10/site-packages/mmcv/__init__.py:20: UserWarning: On January 1, 2023, MMCV will release v2.0.0, in which it will remove components related to the training process and add a data transformation module. In addition, it will rename the package names mmcv to mmcv-lite and mmcv-full to mmcv. See https://github.com/open-mmlab/mmcv/blob/master/docs/en/compatibility.md for more details.\n",
      "  warnings.warn(\n",
      "ipynb_checkpoints folder not found.\n",
      "config saved.\n",
      "train dataset: size=6076\n",
      "  inp: shape=(3, 1024, 1024)\n",
      "  gt: shape=(1, 1024, 1024)\n",
      "model: #params=641.3M\n",
      "/home/ubuntu/SAM1/SAM_Adapter/run_sam/train.py:209: FutureWarning: You are using `torch.load` with `weights_only=False` (the current default value), which uses the default pickle module implicitly. It is possible to construct malicious pickle data which will execute arbitrary code during unpickling (See https://github.com/pytorch/pytorch/blob/main/SECURITY.md#untrusted-models for more details). In a future release, the default value for `weights_only` will be flipped to `True`. This limits the functions that could be executed during unpickling. Arbitrary objects will no longer be allowed to be loaded via this mode unless they are explicitly allowlisted by the user via `torch.serialization.add_safe_globals`. We recommend you start setting `weights_only=True` for any use case where you don't have full control of the loaded file. Please open an issue on GitHub for any issues related to this experimental feature.\n",
      "  sam_checkpoint = torch.load(config['sam_checkpoint'])\n",
      "model_grad_params:4245556 \n",
      "model_total_params:641271604\n",
      "train:  49%|███████████████▋                | 2975/6076 [52:40<54:54,  1.06s/it]"
     ]
    }
   ],
   "source": [
    "# command example1 - inference it later\n",
    "!torchrun run_sam/train.py --data DataExample4 --epoch 10 --model_save_epoch 1 --inference_save_epoch 11 --size pled05 --upsample upscaled --uptype cubic"
   ]
  },
  {
   "cell_type": "code",
   "execution_count": 2,
   "metadata": {},
   "outputs": [
    {
     "name": "stdout",
     "output_type": "stream",
     "text": [
      "/home/ubuntu/.local/lib/python3.10/site-packages/mmcv/__init__.py:20: UserWarning: On January 1, 2023, MMCV will release v2.0.0, in which it will remove components related to the training process and add a data transformation module. In addition, it will rename the package names mmcv to mmcv-lite and mmcv-full to mmcv. See https://github.com/open-mmlab/mmcv/blob/master/docs/en/compatibility.md for more details.\n",
      "  warnings.warn(\n",
      "ipynb_checkpoints folder not found.\n",
      "config saved.\n",
      "train dataset: size=2\n",
      "  inp: shape=(3, 1024, 1024)\n",
      "  gt: shape=(1, 1024, 1024)\n",
      "model: #params=641.3M\n",
      "/home/ubuntu/SAM1/SAM_Adapter/run_sam/train.py:215: FutureWarning: You are using `torch.load` with `weights_only=False` (the current default value), which uses the default pickle module implicitly. It is possible to construct malicious pickle data which will execute arbitrary code during unpickling (See https://github.com/pytorch/pytorch/blob/main/SECURITY.md#untrusted-models for more details). In a future release, the default value for `weights_only` will be flipped to `True`. This limits the functions that could be executed during unpickling. Arbitrary objects will no longer be allowed to be loaded via this mode unless they are explicitly allowlisted by the user via `torch.serialization.add_safe_globals`. We recommend you start setting `weights_only=True` for any use case where you don't have full control of the loaded file. Please open an issue on GitHub for any issues related to this experimental feature.\n",
      "  sam_checkpoint = torch.load(config['sam_checkpoint'])\n",
      "model_grad_params:4245556 \n",
      "model_total_params:641271604\n",
      "[[[[ 1.8892884   1.8892884   1.923538   ...  0.6563062   0.62205670:00<?, ?it/s]\n",
      "     0.60493195]\n",
      "   [ 1.8892884   1.8892884   1.9064132  ...  0.63918144  0.60493195\n",
      "     0.60493195]\n",
      "   [ 1.8721637   1.8721637   1.8892884  ...  0.63918144  0.5878072\n",
      "     0.57068247]\n",
      "   ...\n",
      "   [ 0.09118938  0.09118938  0.10831413 ... -1.2274169  -1.2445416\n",
      "    -1.2445416 ]\n",
      "   [ 0.07406463  0.09118938  0.09118938 ... -1.2274169  -1.2274169\n",
      "    -1.2274169 ]\n",
      "   [ 0.07406463  0.07406463  0.09118938 ... -1.2102921  -1.2102921\n",
      "    -1.2102921 ]]\n",
      "\n",
      "  [[ 1.8508403   1.8508403   1.8858544  ...  0.3277312   0.3102242\n",
      "     0.29271722]\n",
      "   [ 1.8508403   1.8508403   1.8683473  ...  0.3277312   0.29271722\n",
      "     0.29271722]\n",
      "   [ 1.8333333   1.8333333   1.8508403  ...  0.3277312   0.2752102\n",
      "     0.2752102 ]\n",
      "   ...\n",
      "   [ 0.13515405  0.13515405  0.15266106 ... -0.77521    -0.792717\n",
      "    -0.792717  ]\n",
      "   [ 0.13515405  0.13515405  0.13515405 ... -0.757703   -0.77521\n",
      "    -0.77521   ]\n",
      "   [ 0.11764706  0.11764706  0.13515405 ... -0.757703   -0.757703\n",
      "    -0.77521   ]]\n",
      "\n",
      "  [[ 1.8208281   1.8208281   1.8208281  ...  0.5484969   0.51363856\n",
      "     0.49620935]\n",
      "   [ 1.8033988   1.8033988   1.8208281  ...  0.5484969   0.49620935\n",
      "     0.49620935]\n",
      "   [ 1.7859696   1.7859696   1.7859696  ...  0.5310677   0.47878015\n",
      "     0.46135095]\n",
      "   ...\n",
      "   [ 0.19991292  0.19991292  0.21734212 ... -0.42753804 -0.42753804\n",
      "    -0.44496724]\n",
      "   [ 0.18248373  0.19991292  0.19991292 ... -0.39267966 -0.39267966\n",
      "    -0.39267966]\n",
      "   [ 0.18248373  0.18248373  0.19991292 ... -0.37525046 -0.39267966\n",
      "    -0.39267966]]]]\n",
      "[[[[0. 0. 0. ... 0. 0. 0.]\n",
      "   [0. 0. 0. ... 0. 0. 0.]\n",
      "   [0. 0. 0. ... 0. 0. 0.]\n",
      "   ...\n",
      "   [0. 0. 0. ... 0. 0. 0.]\n",
      "   [0. 0. 0. ... 0. 0. 0.]\n",
      "   [0. 0. 0. ... 0. 0. 0.]]]]\n",
      "train:  50%|███████████████████                   | 1/2 [00:03<00:03,  3.27s/it][[[[-0.7136741  -0.7136741  -0.7307989  ... -0.9876702  -0.9876702\n",
      "    -0.9876702 ]\n",
      "   [-0.7307989  -0.7307989  -0.7307989  ... -0.9705454  -0.9876702\n",
      "    -0.9876702 ]\n",
      "   [-0.7307989  -0.7307989  -0.7307989  ... -0.95342064 -0.9705454\n",
      "    -0.9705454 ]\n",
      "   ...\n",
      "   [-0.49105233 -0.49105233 -0.49105233 ... -1.4329139  -1.4329139\n",
      "    -1.4329139 ]\n",
      "   [-0.45680285 -0.45680285 -0.45680285 ... -1.4329139  -1.4329139\n",
      "    -1.4329139 ]\n",
      "   [-0.45680285 -0.45680285 -0.45680285 ... -1.4329139  -1.4329139\n",
      "    -1.4329139 ]]\n",
      "\n",
      "  [[-0.17997196 -0.17997196 -0.17997196 ... -0.77521    -0.792717\n",
      "    -0.792717  ]\n",
      "   [-0.19747896 -0.19747896 -0.19747896 ... -0.77521    -0.77521\n",
      "    -0.77521   ]\n",
      "   [-0.21498597 -0.21498597 -0.21498597 ... -0.740196   -0.740196\n",
      "    -0.740196  ]\n",
      "   ...\n",
      "   [-0.12745096 -0.12745096 -0.14495796 ... -1.0203081  -1.0203081\n",
      "    -1.0203081 ]\n",
      "   [-0.10994396 -0.10994396 -0.12745096 ... -1.0203081  -1.0203081\n",
      "    -1.0203081 ]\n",
      "   [-0.09243695 -0.10994396 -0.12745096 ... -1.0203081  -1.0203081\n",
      "    -1.0203081 ]]\n",
      "\n",
      "  [[-0.0092374  -0.0092374  -0.0092374  ... -0.6192592  -0.6192592\n",
      "    -0.6192592 ]\n",
      "   [-0.02666659 -0.02666659 -0.0092374  ... -0.60182995 -0.60182995\n",
      "    -0.6192592 ]\n",
      "   [-0.04409578 -0.04409578 -0.04409578 ... -0.54954237 -0.54954237\n",
      "    -0.54954237]\n",
      "   ...\n",
      "   [-0.2532461  -0.2532461  -0.28810447 ... -0.8109804  -0.8109804\n",
      "    -0.8109804 ]\n",
      "   [-0.23581691 -0.23581691 -0.2532461  ... -0.8109804  -0.8109804\n",
      "    -0.8109804 ]\n",
      "   [-0.21838771 -0.23581691 -0.2532461  ... -0.8109804  -0.8109804\n",
      "    -0.8109804 ]]]]\n",
      "[[[[0. 0. 0. ... 0. 0. 0.]\n",
      "   [0. 0. 0. ... 0. 0. 0.]\n",
      "   [0. 0. 0. ... 0. 0. 0.]\n",
      "   ...\n",
      "   [0. 0. 0. ... 0. 0. 0.]\n",
      "   [0. 0. 0. ... 0. 0. 0.]\n",
      "   [0. 0. 0. ... 0. 0. 0.]]]]\n",
      "[rank0]:[W127 11:03:57.972641593 ProcessGroupNCCL.cpp:1250] Warning: WARNING: process group has NOT been destroyed before we destruct ProcessGroupNCCL. On normal program exit, the application should call destroy_process_group to ensure that any pending NCCL operations have finished in this process. In rare cases this process can exit before this point and block the progress of another member of the process group. This constraint has always been present,  but this warning has only been added since PyTorch 2.4 (function operator())\n"
     ]
    }
   ],
   "source": [
    "# command example1 - inference it later\n",
    "!torchrun run_sam/train.py --data DataExample5 --epoch 1 --model_save_epoch 10 --inference_save_epoch 11 --size pled05 --upsample upscaled --uptype cubic"
   ]
  },
  {
   "cell_type": "code",
   "execution_count": null,
   "metadata": {},
   "outputs": [],
   "source": []
  },
  {
   "cell_type": "markdown",
   "metadata": {},
   "source": [
    "## Inference based on pretrained models"
   ]
  },
  {
   "cell_type": "code",
   "execution_count": 5,
   "metadata": {},
   "outputs": [
    {
     "name": "stdout",
     "output_type": "stream",
     "text": [
      "/home/ubuntu/.local/lib/python3.10/site-packages/mmcv/__init__.py:20: UserWarning: On January 1, 2023, MMCV will release v2.0.0, in which it will remove components related to the training process and add a data transformation module. In addition, it will rename the package names mmcv to mmcv-lite and mmcv-full to mmcv. See https://github.com/open-mmlab/mmcv/blob/master/docs/en/compatibility.md for more details.\n",
      "  warnings.warn(\n",
      "config saved.\n",
      "Predicted probability map.\n",
      "Save predicted probability map, binary map with threshold at 0.5 and shapefile.\n",
      "Predicted probability map.\n",
      "Save predicted probability map, binary map with threshold at 0.5 and shapefile.\n",
      "^C\n",
      "W0122 09:33:05.173000 3848 torch/distributed/elastic/agent/server/api.py:704] Received Signals.SIGINT death signal, shutting down workers\n",
      "W0122 09:33:05.173000 3848 torch/distributed/elastic/multiprocessing/api.py:897] Sending process 3897 closing signal SIGINT\n"
     ]
    }
   ],
   "source": [
    "!torchrun run_sam/inference_ft.py --data DataExample4 --model_save_epoch 1 --size pled05 --upsample upscaled --uptype cubic"
   ]
  },
  {
   "cell_type": "code",
   "execution_count": null,
   "metadata": {},
   "outputs": [],
   "source": [
    "!torchrun run_sam/inference_ft.py --data DataExample4 --model_save_epoch 2 --size pled05 --upsample upscaled --uptype cubic"
   ]
  },
  {
   "cell_type": "code",
   "execution_count": 1,
   "metadata": {},
   "outputs": [
    {
     "name": "stdout",
     "output_type": "stream",
     "text": [
      "/home/ubuntu/.local/lib/python3.10/site-packages/mmcv/__init__.py:20: UserWarning: On January 1, 2023, MMCV will release v2.0.0, in which it will remove components related to the training process and add a data transformation module. In addition, it will rename the package names mmcv to mmcv-lite and mmcv-full to mmcv. See https://github.com/open-mmlab/mmcv/blob/master/docs/en/compatibility.md for more details.\n",
      "  warnings.warn(\n",
      "config saved.\n",
      "Predicted probability map.\n",
      "Save predicted probability map, binary map with threshold at 0.5 and shapefile.\n",
      "Predicted probability map.\n",
      "Save predicted probability map, binary map with threshold at 0.5 and shapefile.\n",
      "^C\n",
      "W0122 11:17:38.347000 4521 torch/distributed/elastic/agent/server/api.py:704] Received Signals.SIGINT death signal, shutting down workers\n",
      "W0122 11:17:38.347000 4521 torch/distributed/elastic/multiprocessing/api.py:897] Sending process 4570 closing signal SIGINT\n"
     ]
    }
   ],
   "source": [
    "!torchrun run_sam/inference_ft.py --data DataExample4 --model_save_epoch 3 --size pled05 --upsample upscaled --uptype cubic"
   ]
  },
  {
   "cell_type": "code",
   "execution_count": null,
   "metadata": {},
   "outputs": [
    {
     "name": "stdout",
     "output_type": "stream",
     "text": [
      "/home/ubuntu/.local/lib/python3.10/site-packages/mmcv/__init__.py:20: UserWarning: On January 1, 2023, MMCV will release v2.0.0, in which it will remove components related to the training process and add a data transformation module. In addition, it will rename the package names mmcv to mmcv-lite and mmcv-full to mmcv. See https://github.com/open-mmlab/mmcv/blob/master/docs/en/compatibility.md for more details.\n",
      "  warnings.warn(\n",
      "config saved.\n",
      "Predicted probability map.\n",
      "Save predicted probability map, binary map with threshold at 0.5 and shapefile.\n",
      "Predicted probability map.\n",
      "Save predicted probability map, binary map with threshold at 0.5 and shapefile.\n"
     ]
    }
   ],
   "source": [
    "!torchrun run_sam/inference_ft.py --data DataExample4 --model_save_epoch 4 --size pled05 --upsample upscaled --uptype cubic"
   ]
  },
  {
   "cell_type": "markdown",
   "metadata": {
    "id": "5htzoTmRbSup"
   },
   "source": [
    "## Evaluation"
   ]
  },
  {
   "cell_type": "code",
   "execution_count": 2,
   "metadata": {
    "id": "xfjRZjOo8Y57",
    "tags": []
   },
   "outputs": [
    {
     "name": "stdout",
     "output_type": "stream",
     "text": [
      "recall: 0.0\n",
      "precision: 0.0\n",
      "f1: 0.0\n",
      "iou: 0.0\n"
     ]
    }
   ],
   "source": [
    "from evaluation import evaluation_single_main\n",
    "\n",
    "# select a specific prediction result and ground truth data to be evaluated\n",
    "# this part can be furthur automated based on needs\n",
    "path_gt = \"/home/yunya/anaconda3/envs/Data/Dagaha2017/SAM/upscaled/test/cubic/gt/dagahaley2.tif\"\n",
    "path_pred = \"/home/yunya/anaconda3/envs/SAM_Adapter/outputs/Dagaha2017/small/upscaled/cubic/epoch2/area2/pred_mask_bin0.5.tif\"\n",
    "\n",
    "evaluation_result = evaluation_single_main(path_pred, path_gt)"
   ]
  }
 ],
 "metadata": {
  "accelerator": "GPU",
  "colab": {
   "gpuType": "V100",
   "provenance": []
  },
  "kernelspec": {
   "display_name": "Python 3 (ipykernel)",
   "language": "python",
   "name": "python3"
  },
  "language_info": {
   "codemirror_mode": {
    "name": "ipython",
    "version": 3
   },
   "file_extension": ".py",
   "mimetype": "text/x-python",
   "name": "python",
   "nbconvert_exporter": "python",
   "pygments_lexer": "ipython3",
   "version": "3.10.12"
  }
 },
 "nbformat": 4,
 "nbformat_minor": 4
}
