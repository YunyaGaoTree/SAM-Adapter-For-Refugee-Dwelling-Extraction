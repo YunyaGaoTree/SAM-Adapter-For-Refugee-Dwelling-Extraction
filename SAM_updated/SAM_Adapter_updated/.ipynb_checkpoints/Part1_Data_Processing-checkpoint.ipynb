{
 "cells": [
  {
   "cell_type": "markdown",
   "metadata": {
    "id": "qUM0c9mX8Ak1"
   },
   "source": [
    "# Data preparation\n",
    "\n",
    "- This notebook presents data preprocessing for [HiSup](https://github.com/SarahwXU/HiSup) and [SAM-Adapter](https://github.com/tianrun-chen/SAM-Adapter-PyTorch) approaches.\n",
    "- The codes mainly source from [HiSup](https://github.com/SarahwXU/HiSup).\n",
    "- This workflow is only suitable for binary segmentation. Feel free to adapt it for multiclass segmentation.\n",
    "- You can upscale images (4 times) by a super resolution model ([EDSR](https://github.com/aswintechguy/Deep-Learning-Projects/tree/main/Super%20Resolution%20-%20OpenCV)).\n",
    "- The default structure of your data is:<br>\n",
    "    Dataset1<br>\n",
    "    - raw\n",
    "        - train\n",
    "            - images  (geotif, uint8, 3 bands (RGB), you can enhance image data in GIS software in advance, e.g., standard deviation)\n",
    "            - gt      (geotif, uint8, value:0(background), 255(targets))\n",
    "        - test\n",
    "            - images\n",
    "            - gt\n",
    "        - val\n",
    "            - images\n",
    "            - gt<br>\n",
    "    \n",
    "  Dataset2<br>\n",
    "  Dataset3<br>\n",
    "  ... ..."
   ]
  },
  {
   "cell_type": "code",
   "execution_count": 1,
   "metadata": {
    "colab": {
     "base_uri": "https://localhost:8080/"
    },
    "executionInfo": {
     "elapsed": 4,
     "status": "ok",
     "timestamp": 1689952679810,
     "user": {
      "displayName": "Yunya Gao",
      "userId": "05443726764578958815"
     },
     "user_tz": -120
    },
    "id": "bVv-eRp1_fLd",
    "outputId": "90fb1aae-72e4-4967-e562-e5dee8471297",
    "tags": []
   },
   "outputs": [
    {
     "name": "stdout",
     "output_type": "stream",
     "text": [
      "/home/yunya/anaconda3/envs/sam/SAM_Adapter\n"
     ]
    },
    {
     "data": {
      "text/plain": [
       "(['Dagaha2017',\n",
       "  'Djibo2019',\n",
       "  'Kutupalong2018',\n",
       "  'Minawao2017',\n",
       "  'Nduta2017',\n",
       "  'Ngu2017',\n",
       "  'Ngu2018'],\n",
       " ['train_large', 'train_small', 'val'])"
      ]
     },
     "execution_count": 1,
     "metadata": {},
     "output_type": "execute_result"
    }
   ],
   "source": [
    "# set up working directory\n",
    "import os\n",
    "path = os.getcwd() # your current working directory where your codes are stored.\n",
    "print(path)\n",
    "\n",
    "from DataProcessing import data_process_hisup, data_process_sam, upscale_img_sr, upscale_img_nearest, upscale_img_bilinear, upscale_lab, set_sr_model, upscale_testing_data_nearest_bilinear, upscale_testing_data_SR\n",
    "from pathlib import Path\n",
    "import pathlib\n",
    "import glob\n",
    "\n",
    "# print all datasets\n",
    "path_database = \"./data\" # path of dataset\n",
    "data_list = os.listdir(path_database)\n",
    "data_list.sort()\n",
    "\n",
    "type_list = ['train_large', 'train_small', 'val'] # 'test',\n",
    "data_list, type_list"
   ]
  },
  {
   "cell_type": "markdown",
   "metadata": {
    "id": "alvih8aA8Ak7"
   },
   "source": [
    "## Data preparation for SAM Adapter"
   ]
  },
  {
   "cell_type": "code",
   "execution_count": 11,
   "metadata": {
    "colab": {
     "base_uri": "https://localhost:8080/"
    },
    "executionInfo": {
     "elapsed": 5602559,
     "status": "ok",
     "timestamp": 1689958287754,
     "user": {
      "displayName": "Yunya Gao",
      "userId": "05443726764578958815"
     },
     "user_tz": -120
    },
    "id": "SJOMmkMP8Ak8",
    "outputId": "b08a06d4-982a-462f-ead5-29354350e210",
    "scrolled": true,
    "tags": []
   },
   "outputs": [
    {
     "name": "stdout",
     "output_type": "stream",
     "text": [
      "Start processing: Dagaha2017 train_large 1024\n"
     ]
    },
    {
     "name": "stderr",
     "output_type": "stream",
     "text": [
      "100%|█████████████████████████████████████████████████████████████████████████████████████████████████████████| 7/7 [01:44<00:00, 14.92s/it]\n"
     ]
    },
    {
     "name": "stdout",
     "output_type": "stream",
     "text": [
      "Done\n",
      "Start processing: Dagaha2017 train_small 1024\n"
     ]
    },
    {
     "name": "stderr",
     "output_type": "stream",
     "text": [
      "100%|█████████████████████████████████████████████████████████████████████████████████████████████████████████| 7/7 [00:14<00:00,  2.08s/it]\n"
     ]
    },
    {
     "name": "stdout",
     "output_type": "stream",
     "text": [
      "Done\n",
      "Start processing: Dagaha2017 val 1024\n"
     ]
    },
    {
     "name": "stderr",
     "output_type": "stream",
     "text": [
      "100%|█████████████████████████████████████████████████████████████████████████████████████████████████████████| 7/7 [00:00<00:00,  8.12it/s]\n"
     ]
    },
    {
     "name": "stdout",
     "output_type": "stream",
     "text": [
      "Done\n",
      "Start processing: Djibo2019 train_large 1024\n"
     ]
    },
    {
     "name": "stderr",
     "output_type": "stream",
     "text": [
      "100%|█████████████████████████████████████████████████████████████████████████████████████████████████████████| 7/7 [01:35<00:00, 13.66s/it]\n"
     ]
    },
    {
     "name": "stdout",
     "output_type": "stream",
     "text": [
      "Done\n",
      "Start processing: Djibo2019 train_small 1024\n"
     ]
    },
    {
     "name": "stderr",
     "output_type": "stream",
     "text": [
      "100%|█████████████████████████████████████████████████████████████████████████████████████████████████████████| 7/7 [00:17<00:00,  2.55s/it]\n"
     ]
    },
    {
     "name": "stdout",
     "output_type": "stream",
     "text": [
      "Done\n",
      "Start processing: Djibo2019 val 1024\n"
     ]
    },
    {
     "name": "stderr",
     "output_type": "stream",
     "text": [
      "100%|█████████████████████████████████████████████████████████████████████████████████████████████████████████| 7/7 [00:00<00:00,  7.28it/s]\n"
     ]
    },
    {
     "name": "stdout",
     "output_type": "stream",
     "text": [
      "Done\n",
      "Start processing: Kutupalong2018 train_large 1024\n"
     ]
    },
    {
     "name": "stderr",
     "output_type": "stream",
     "text": [
      "100%|█████████████████████████████████████████████████████████████████████████████████████████████████████████| 7/7 [10:44<00:00, 92.04s/it]\n"
     ]
    },
    {
     "name": "stdout",
     "output_type": "stream",
     "text": [
      "Done\n",
      "Start processing: Kutupalong2018 train_small 1024\n"
     ]
    },
    {
     "name": "stderr",
     "output_type": "stream",
     "text": [
      "100%|█████████████████████████████████████████████████████████████████████████████████████████████████████████| 7/7 [02:19<00:00, 19.92s/it]\n"
     ]
    },
    {
     "name": "stdout",
     "output_type": "stream",
     "text": [
      "Done\n",
      "Start processing: Kutupalong2018 val 1024\n"
     ]
    },
    {
     "name": "stderr",
     "output_type": "stream",
     "text": [
      "100%|█████████████████████████████████████████████████████████████████████████████████████████████████████████| 7/7 [00:39<00:00,  5.69s/it]\n"
     ]
    },
    {
     "name": "stdout",
     "output_type": "stream",
     "text": [
      "Done\n",
      "Start processing: Minawao2017 train_large 1024\n"
     ]
    },
    {
     "name": "stderr",
     "output_type": "stream",
     "text": [
      "100%|█████████████████████████████████████████████████████████████████████████████████████████████████████████| 7/7 [01:11<00:00, 10.23s/it]\n"
     ]
    },
    {
     "name": "stdout",
     "output_type": "stream",
     "text": [
      "Done\n",
      "Start processing: Minawao2017 train_small 1024\n"
     ]
    },
    {
     "name": "stderr",
     "output_type": "stream",
     "text": [
      "100%|█████████████████████████████████████████████████████████████████████████████████████████████████████████| 7/7 [00:16<00:00,  2.41s/it]\n"
     ]
    },
    {
     "name": "stdout",
     "output_type": "stream",
     "text": [
      "Done\n",
      "Start processing: Minawao2017 val 1024\n"
     ]
    },
    {
     "name": "stderr",
     "output_type": "stream",
     "text": [
      "100%|█████████████████████████████████████████████████████████████████████████████████████████████████████████| 7/7 [00:00<00:00,  8.36it/s]\n"
     ]
    },
    {
     "name": "stdout",
     "output_type": "stream",
     "text": [
      "Done\n",
      "Start processing: Nduta2017 train_large 1024\n"
     ]
    },
    {
     "name": "stderr",
     "output_type": "stream",
     "text": [
      "100%|█████████████████████████████████████████████████████████████████████████████████████████████████████████| 7/7 [07:14<00:00, 62.11s/it]\n"
     ]
    },
    {
     "name": "stdout",
     "output_type": "stream",
     "text": [
      "Done\n",
      "Start processing: Nduta2017 train_small 1024\n"
     ]
    },
    {
     "name": "stderr",
     "output_type": "stream",
     "text": [
      "100%|█████████████████████████████████████████████████████████████████████████████████████████████████████████| 7/7 [01:36<00:00, 13.83s/it]\n"
     ]
    },
    {
     "name": "stdout",
     "output_type": "stream",
     "text": [
      "Done\n",
      "Start processing: Nduta2017 val 1024\n"
     ]
    },
    {
     "name": "stderr",
     "output_type": "stream",
     "text": [
      "100%|█████████████████████████████████████████████████████████████████████████████████████████████████████████| 7/7 [00:25<00:00,  3.60s/it]\n"
     ]
    },
    {
     "name": "stdout",
     "output_type": "stream",
     "text": [
      "Done\n",
      "Start processing: Ngu2017 train_large 1024\n"
     ]
    },
    {
     "name": "stderr",
     "output_type": "stream",
     "text": [
      "100%|█████████████████████████████████████████████████████████████████████████████████████████████████████████| 7/7 [00:51<00:00,  7.35s/it]\n"
     ]
    },
    {
     "name": "stdout",
     "output_type": "stream",
     "text": [
      "Done\n",
      "Start processing: Ngu2017 train_small 1024\n"
     ]
    },
    {
     "name": "stderr",
     "output_type": "stream",
     "text": [
      "100%|█████████████████████████████████████████████████████████████████████████████████████████████████████████| 7/7 [00:13<00:00,  1.92s/it]\n"
     ]
    },
    {
     "name": "stdout",
     "output_type": "stream",
     "text": [
      "Done\n",
      "Start processing: Ngu2017 val 1024\n"
     ]
    },
    {
     "name": "stderr",
     "output_type": "stream",
     "text": [
      "100%|█████████████████████████████████████████████████████████████████████████████████████████████████████████| 7/7 [00:00<00:00,  7.65it/s]\n"
     ]
    },
    {
     "name": "stdout",
     "output_type": "stream",
     "text": [
      "Done\n",
      "Start processing: Ngu2018 train_large 1024\n"
     ]
    },
    {
     "name": "stderr",
     "output_type": "stream",
     "text": [
      "100%|█████████████████████████████████████████████████████████████████████████████████████████████████████████| 7/7 [01:05<00:00,  9.36s/it]\n"
     ]
    },
    {
     "name": "stdout",
     "output_type": "stream",
     "text": [
      "Done\n",
      "Start processing: Ngu2018 train_small 1024\n"
     ]
    },
    {
     "name": "stderr",
     "output_type": "stream",
     "text": [
      "100%|█████████████████████████████████████████████████████████████████████████████████████████████████████████| 7/7 [00:16<00:00,  2.32s/it]\n"
     ]
    },
    {
     "name": "stdout",
     "output_type": "stream",
     "text": [
      "Done\n",
      "Start processing: Ngu2018 val 1024\n"
     ]
    },
    {
     "name": "stderr",
     "output_type": "stream",
     "text": [
      "100%|█████████████████████████████████████████████████████████████████████████████████████████████████████████| 7/7 [00:01<00:00,  6.27it/s]"
     ]
    },
    {
     "name": "stdout",
     "output_type": "stream",
     "text": [
      "Done\n"
     ]
    },
    {
     "name": "stderr",
     "output_type": "stream",
     "text": [
      "\n"
     ]
    }
   ],
   "source": [
    "patchsize_list = [1024]\n",
    "\n",
    "for dataset in data_list:\n",
    "    for dtype in type_list:\n",
    "        for patch_size in patchsize_list:\n",
    "\n",
    "            path_dataset = os.path.join(path_database, dataset)\n",
    "            print(\"Start processing: \" + dataset + \" \" + dtype + \" \" + str(patch_size))\n",
    "\n",
    "            data_process_sam(path_dataset, dtype, patch_size)\n",
    "            print(\"Done\")"
   ]
  },
  {
   "cell_type": "code",
   "execution_count": 12,
   "metadata": {
    "colab": {
     "base_uri": "https://localhost:8080/"
    },
    "executionInfo": {
     "elapsed": 688693,
     "status": "ok",
     "timestamp": 1689960751529,
     "user": {
      "displayName": "Yunya Gao",
      "userId": "05443726764578958815"
     },
     "user_tz": -120
    },
    "id": "FPNDZ9JP_tMc",
    "outputId": "6467c7b0-fd96-4d15-d68f-aeb316149d65",
    "scrolled": true,
    "tags": []
   },
   "outputs": [
    {
     "name": "stdout",
     "output_type": "stream",
     "text": [
      "Start processing: Dagaha2017 train_small 256\n"
     ]
    },
    {
     "name": "stderr",
     "output_type": "stream",
     "text": [
      "100%|█████████████████████████████████████████████████████████████████████████████████████████████████████████| 7/7 [00:13<00:00,  1.87s/it]\n"
     ]
    },
    {
     "name": "stdout",
     "output_type": "stream",
     "text": [
      "Done\n",
      "Start processing: Dagaha2017 val 256\n"
     ]
    },
    {
     "name": "stderr",
     "output_type": "stream",
     "text": [
      "100%|█████████████████████████████████████████████████████████████████████████████████████████████████████████| 7/7 [00:03<00:00,  2.07it/s]\n"
     ]
    },
    {
     "name": "stdout",
     "output_type": "stream",
     "text": [
      "Done\n",
      "Start processing: Djibo2019 train_small 256\n"
     ]
    },
    {
     "name": "stderr",
     "output_type": "stream",
     "text": [
      "100%|█████████████████████████████████████████████████████████████████████████████████████████████████████████| 7/7 [00:17<00:00,  2.47s/it]\n"
     ]
    },
    {
     "name": "stdout",
     "output_type": "stream",
     "text": [
      "Done\n",
      "Start processing: Djibo2019 val 256\n"
     ]
    },
    {
     "name": "stderr",
     "output_type": "stream",
     "text": [
      "100%|█████████████████████████████████████████████████████████████████████████████████████████████████████████| 7/7 [00:03<00:00,  1.93it/s]\n"
     ]
    },
    {
     "name": "stdout",
     "output_type": "stream",
     "text": [
      "Done\n",
      "Start processing: Minawao2017 train_small 256\n"
     ]
    },
    {
     "name": "stderr",
     "output_type": "stream",
     "text": [
      "100%|█████████████████████████████████████████████████████████████████████████████████████████████████████████| 7/7 [00:11<00:00,  1.58s/it]\n"
     ]
    },
    {
     "name": "stdout",
     "output_type": "stream",
     "text": [
      "Done\n",
      "Start processing: Minawao2017 val 256\n"
     ]
    },
    {
     "name": "stderr",
     "output_type": "stream",
     "text": [
      "100%|█████████████████████████████████████████████████████████████████████████████████████████████████████████| 7/7 [00:02<00:00,  2.44it/s]\n"
     ]
    },
    {
     "name": "stdout",
     "output_type": "stream",
     "text": [
      "Done\n",
      "Start processing: Ngu2018 train_small 256\n"
     ]
    },
    {
     "name": "stderr",
     "output_type": "stream",
     "text": [
      "100%|█████████████████████████████████████████████████████████████████████████████████████████████████████████| 7/7 [00:12<00:00,  1.78s/it]\n"
     ]
    },
    {
     "name": "stdout",
     "output_type": "stream",
     "text": [
      "Done\n",
      "Start processing: Ngu2018 val 256\n"
     ]
    },
    {
     "name": "stderr",
     "output_type": "stream",
     "text": [
      "100%|█████████████████████████████████████████████████████████████████████████████████████████████████████████| 7/7 [00:02<00:00,  2.67it/s]"
     ]
    },
    {
     "name": "stdout",
     "output_type": "stream",
     "text": [
      "Done\n"
     ]
    },
    {
     "name": "stderr",
     "output_type": "stream",
     "text": [
      "\n"
     ]
    }
   ],
   "source": [
    "patchsize_list = [256]\n",
    "data_sr_list = ['Dagaha2017',\n",
    "                'Djibo2019',\n",
    "                'Minawao2017',\n",
    "                'Ngu2018']\n",
    "\n",
    "type_sr_list = ['train_small', 'val']\n",
    "\n",
    "for dataset in data_sr_list:\n",
    "    for dtype in type_sr_list:\n",
    "        for patch_size in patchsize_list:\n",
    "\n",
    "            path_dataset = os.path.join(path_database, dataset)\n",
    "            print(\"Start processing: \" + dataset + \" \" + dtype + \" \" + str(patch_size))\n",
    "\n",
    "            data_process_sam(path_dataset, dtype, patch_size)\n",
    "            print(\"Done\")"
   ]
  },
  {
   "cell_type": "markdown",
   "metadata": {
    "id": "d8F84jUl8Ak8"
   },
   "source": [
    "## Upscale image (256x256) to 1024x1024"
   ]
  },
  {
   "cell_type": "code",
   "execution_count": 4,
   "metadata": {
    "tags": []
   },
   "outputs": [
    {
     "name": "stdout",
     "output_type": "stream",
     "text": [
      "Start: 686               Dagaha2017  train_small\n",
      "Done\n",
      "Start: 784               Djibo2019  train_small\n",
      "Done\n",
      "Start: 504               Minawao2017  train_small\n",
      "Done\n",
      "Start: 588               Ngu2018  train_small\n",
      "Done\n"
     ]
    }
   ],
   "source": [
    "model_name = \"SAM\"\n",
    "\n",
    "data_list = ['Dagaha2017',\n",
    "              'Djibo2019',\n",
    "              'Minawao2017',\n",
    "              'Ngu2018']\n",
    "\n",
    "type_list = ['train_small']#['train_small', \"val\"]\n",
    "patchsize_list = [256]\n",
    "upscaled_list = ['nearest', 'bilinear', 'EDSR']\n",
    "\n",
    "for dataset in data_list:\n",
    "    for dtype in type_list:\n",
    "        for patch_size in patchsize_list:\n",
    "\n",
    "            path_dataset = os.path.join(path_database, dataset, model_name, str(patch_size), dtype, \"images\")\n",
    "            \n",
    "            # read all image names\n",
    "            img_name_list = os.listdir(path_dataset) \n",
    "            \n",
    "            print(\"Start: {:<15}   {:<6}  {}\".format(len(img_name_list), dataset, dtype))\n",
    "\n",
    "            for img_name in img_name_list:\n",
    "                \n",
    "                path_ups_lab = os.path.join(path_database, dataset, model_name, \"SR\", dtype, \"gt\")\n",
    "                Path(path_ups_lab).mkdir(parents=True, exist_ok=True)\n",
    "                \n",
    "                path_in_lab = os.path.join(path_database, dataset, model_name, str(patch_size), dtype, \"gt\", img_name)\n",
    "                path_out_lab = os.path.join(path_ups_lab, img_name)\n",
    "                \n",
    "                # upscale labels\n",
    "                upscale_lab(path_in_lab, path_out_lab)\n",
    "                \n",
    "                for upscaled_folder in upscaled_list:\n",
    "                    \n",
    "                    path_ups_img = os.path.join(path_database, dataset, model_name, \"SR\", dtype, upscaled_folder, \"images\")\n",
    "                    Path(path_ups_img).mkdir(parents=True, exist_ok=True)\n",
    "\n",
    "                    path_in_img = os.path.join(path_database, dataset, model_name, str(patch_size), dtype, \"images\", img_name)\n",
    "                    path_out_img = os.path.join(path_ups_img, img_name)\n",
    "                    \n",
    "                    if upscaled_folder=='nearest': \n",
    "                        upscale_img_nearest(path_in_img, path_out_img)\n",
    "                    \n",
    "                    elif upscaled_folder=='bilinear': \n",
    "                        upscale_img_bilinear(path_in_img, path_out_img)\n",
    "                    \n",
    "                    else:\n",
    "                        # set up sr model\n",
    "                        sr_model = set_sr_model(upscaled_folder)\n",
    "\n",
    "                        # upscale images\n",
    "                        upscale_img_sr(path_in_img, path_out_img, sr_model)                \n",
    "\n",
    "            print(\"Done\")"
   ]
  },
  {
   "cell_type": "code",
   "execution_count": 7,
   "metadata": {
    "tags": []
   },
   "outputs": [
    {
     "data": {
      "text/plain": [
       "'FSRCNN'"
      ]
     },
     "execution_count": 7,
     "metadata": {},
     "output_type": "execute_result"
    }
   ],
   "source": [
    "upscaled_folder"
   ]
  },
  {
   "cell_type": "markdown",
   "metadata": {},
   "source": [
    "## Upscale testing data"
   ]
  },
  {
   "cell_type": "code",
   "execution_count": 3,
   "metadata": {
    "tags": []
   },
   "outputs": [],
   "source": [
    "data_list = ['Dagaha2017',\n",
    "              'Djibo2019',\n",
    "              'Minawao2017',\n",
    "              'Ngu2018']"
   ]
  },
  {
   "cell_type": "code",
   "execution_count": 6,
   "metadata": {
    "tags": []
   },
   "outputs": [
    {
     "name": "stdout",
     "output_type": "stream",
     "text": [
      "./data/Dagaha2017/SAM/SR/test/nearest/test_up.tif\n",
      "(3, 12404, 19132)\n",
      "./data/Dagaha2017/SAM/SR/test/bilinear/test_up.tif\n",
      "(3, 12404, 19132)\n",
      "./data/Djibo2019/SAM/SR/test/nearest/test_up.tif\n",
      "(3, 11696, 15404)\n",
      "./data/Djibo2019/SAM/SR/test/bilinear/test_up.tif\n",
      "(3, 11696, 15404)\n",
      "./data/Minawao2017/SAM/SR/test/nearest/test_up.tif\n",
      "(3, 12660, 7268)\n",
      "./data/Minawao2017/SAM/SR/test/bilinear/test_up.tif\n",
      "(3, 12660, 7268)\n",
      "./data/Ngu2018/SAM/SR/test/nearest/test_up.tif\n",
      "(3, 9616, 19392)\n",
      "./data/Ngu2018/SAM/SR/test/bilinear/test_up.tif\n",
      "(3, 9616, 19392)\n"
     ]
    }
   ],
   "source": [
    "# upscale data by nearest neighboring and bilinear interpolation\n",
    "upscale_list = ['nearest', 'bilinear']\n",
    "data_type = \"images\"\n",
    "\n",
    "for dataset in data_list:\n",
    "    for upscaled_folder in upscale_list:\n",
    "        upscale_testing_data_nearest_bilinear(path_database, dataset, upscaled_folder, data_type)"
   ]
  },
  {
   "cell_type": "code",
   "execution_count": 7,
   "metadata": {
    "tags": []
   },
   "outputs": [
    {
     "name": "stdout",
     "output_type": "stream",
     "text": [
      "./data/Dagaha2017/SAM/SR/test/gt/test_up.tif\n",
      "(1, 12408, 19128)\n",
      "./data/Djibo2019/SAM/SR/test/gt/test_up.tif\n",
      "(1, 11696, 15404)\n",
      "./data/Minawao2017/SAM/SR/test/gt/test_up.tif\n",
      "(1, 12660, 7268)\n",
      "./data/Ngu2018/SAM/SR/test/gt/test_up.tif\n",
      "(1, 9612, 19392)\n"
     ]
    }
   ],
   "source": [
    "# upscale Ground Truth data\n",
    "\n",
    "upscale_list = ['bilinear']\n",
    "data_type = \"gt\"\n",
    "\n",
    "for dataset in data_list:\n",
    "    for upscaled_folder in upscale_list:\n",
    "        upscale_testing_data_nearest_bilinear(path_database, dataset, upscaled_folder, data_type)"
   ]
  },
  {
   "cell_type": "markdown",
   "metadata": {},
   "source": [
    "#### Upscale image by SR"
   ]
  },
  {
   "cell_type": "code",
   "execution_count": null,
   "metadata": {
    "tags": []
   },
   "outputs": [
    {
     "name": "stdout",
     "output_type": "stream",
     "text": [
      "./data/Ngu2018/SAM/SR/test/EDSR/test_up.tif\n",
      "num_patches_height: 5, num_patches_width: 10\n"
     ]
    }
   ],
   "source": [
    "upscaled_folder = \"EDSR\"\n",
    "data_type = \"images\"\n",
    "\n",
    "for dataset in data_list:\n",
    "    upscale_testing_data_SR(path_database, dataset, upscaled_folder, data_type)"
   ]
  },
  {
   "cell_type": "code",
   "execution_count": null,
   "metadata": {},
   "outputs": [],
   "source": []
  },
  {
   "cell_type": "markdown",
   "metadata": {
    "id": "pMFaQcIO8Ak8"
   },
   "source": [
    "# Print number of patches for each type of created data"
   ]
  },
  {
   "cell_type": "markdown",
   "metadata": {
    "id": "0v2qmplK8Ak9"
   },
   "source": [
    "### SAM"
   ]
  },
  {
   "cell_type": "code",
   "execution_count": 14,
   "metadata": {
    "id": "AA5fLzEe8Ak9",
    "outputId": "65cef3ac-11d1-4daa-c261-e246883295bd",
    "tags": []
   },
   "outputs": [
    {
     "name": "stdout",
     "output_type": "stream",
     "text": [
      "350       Dagaha2017       1024    train_large\n",
      "56        Dagaha2017       1024    train_small\n",
      "7         Dagaha2017       1024    val\n",
      "280       Djibo2019        1024    train_large\n",
      "56        Djibo2019        1024    train_small\n",
      "7         Djibo2019        1024    val\n",
      "1848      Kutupalong2018   1024    train_large\n",
      "420       Kutupalong2018   1024    train_small\n",
      "112       Kutupalong2018   1024    val\n",
      "224       Minawao2017      1024    train_large\n",
      "56        Minawao2017      1024    train_small\n",
      "7         Minawao2017      1024    val\n",
      "1176      Nduta2017        1024    train_large\n",
      "224       Nduta2017        1024    train_small\n",
      "63        Nduta2017        1024    val\n",
      "224       Ngu2017          1024    train_large\n",
      "56        Ngu2017          1024    train_small\n",
      "7         Ngu2017          1024    val\n",
      "224       Ngu2018          1024    train_large\n",
      "56        Ngu2018          1024    train_small\n",
      "7         Ngu2018          1024    val\n"
     ]
    }
   ],
   "source": [
    "model_name = \"SAM\"\n",
    "\n",
    "patchsize_list = [1024]\n",
    "\n",
    "for dataset in data_list:\n",
    "    for dtype in type_list:\n",
    "        for patch_size in patchsize_list:\n",
    "\n",
    "            path_dataset = os.path.join(path_database, dataset, model_name, str(patch_size), dtype, \"images\")\n",
    "            alldata_list = os.listdir(path_dataset)\n",
    "\n",
    "            print(\"{:<7}   {:<15}  {:<6}  {}\".format(len(alldata_list), dataset, patch_size, dtype))"
   ]
  },
  {
   "cell_type": "code",
   "execution_count": 18,
   "metadata": {
    "tags": []
   },
   "outputs": [
    {
     "name": "stdout",
     "output_type": "stream",
     "text": [
      "686       Dagaha2017       256     train_small\n",
      "784       Djibo2019        256     train_small\n",
      "504       Minawao2017      256     train_small\n",
      "588       Ngu2018          256     train_small\n"
     ]
    }
   ],
   "source": [
    "model_name = \"SAM\"\n",
    "\n",
    "patchsize_list = [256]\n",
    "data_list = ['Dagaha2017',\n",
    "              'Djibo2019',\n",
    "              'Minawao2017',\n",
    "              'Ngu2018']\n",
    "type_list = [\"train_small\"]\n",
    "\n",
    "for dataset in data_list:\n",
    "    for dtype in type_list:\n",
    "        for patch_size in patchsize_list:\n",
    "\n",
    "            path_dataset = os.path.join(path_database, dataset, model_name, str(patch_size), dtype, \"images\")\n",
    "            alldata_list = os.listdir(path_dataset)\n",
    "\n",
    "            print(\"{:<7}   {:<15}  {:<6}  {}\".format(len(alldata_list), dataset, patch_size, dtype))"
   ]
  }
 ],
 "metadata": {
  "colab": {
   "collapsed_sections": [
    "kwuw2y2kSWlj",
    "pMFaQcIO8Ak8"
   ],
   "machine_shape": "hm",
   "provenance": []
  },
  "kernelspec": {
   "display_name": "Python(hisup)",
   "language": "python",
   "name": "hisup"
  },
  "language_info": {
   "codemirror_mode": {
    "name": "ipython",
    "version": 3
   },
   "file_extension": ".py",
   "mimetype": "text/x-python",
   "name": "python",
   "nbconvert_exporter": "python",
   "pygments_lexer": "ipython3",
   "version": "3.7.16"
  }
 },
 "nbformat": 4,
 "nbformat_minor": 4
}
